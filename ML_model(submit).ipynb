{
 "cells": [
  {
   "cell_type": "code",
   "execution_count": null,
   "metadata": {},
   "outputs": [],
   "source": [
    "import json\n",
    "from collections import Counter\n",
    "from pathlib import Path\n",
    "\n",
    "import numpy as np\n",
    "import pandas as pd\n",
    "import pendulum\n",
    "from sklearn import linear_model, svm\n",
    "from sklearn.ensemble import RandomForestClassifier\n",
    "from sklearn.metrics import auc, classification_report, f1_score, roc_curve\n",
    "from sklearn.model_selection import (GridSearchCV, cross_val_score,\n",
    "                                     cross_validate, train_test_split)\n",
    "# from sklearn.naive_bayes import GaussianNB\n",
    "from sklearn.neighbors import KNeighborsClassifier\n",
    "from sklearn.neural_network import MLPClassifier\n",
    "from sklearn.preprocessing import MinMaxScaler, Normalizer\n",
    "from sklearn.svm import SVC\n",
    "from tqdm.notebook import tqdm"
   ]
  },
  {
   "cell_type": "code",
   "execution_count": null,
   "metadata": {},
   "outputs": [],
   "source": [
    "all_df = pd.read_csv(\"csv\", index_col=\"uid\")\n",
    "Y = all_df[[\"C3DV_Intrinsic_goal\", \"C3DV_Extrinsic_goal\"]]\n",
    "# Y = all_df[[\"C2DV_Intrinsic_goal\", \"C2DV_Extrinsic_goal\", \"C3DV_Intrinsic_goal\", \"C3DV_Extrinsic_goal\"]]\n",
    "\n",
    "X_e = all_df.iloc[:, 94:99]\n",
    "X = all_df.iloc[:, 149:]\n",
    "X = pd.concat([X, X_e], axis=1)\n",
    "X = X.drop(columns=[c for c in X.columns if c.startswith(\"wc\")])\n",
    "# print(\",\".join([_x for _x in X.columns]))\n",
    "X.to_csv(\"csv\")\n",
    "\n",
    "# 1\n",
    "# scaler = MinMaxScaler()\n",
    "# X = scaler.fit_transform(X)\n",
    "\n",
    "# 2\n",
    "scaler = Normalizer()\n",
    "X = scaler.fit_transform(X) # 数据归一化\n",
    "X.shape"
   ]
  },
  {
   "cell_type": "code",
   "execution_count": null,
   "metadata": {},
   "outputs": [],
   "source": [
    "models = {\n",
    "    \"LR\": linear_model.LogisticRegression(C=1, solver=\"newton-cg\"),\n",
    "    \"K-Neighbors\": KNeighborsClassifier(),\n",
    "    \"SVM\": svm.SVC(C=1, probability=True),\n",
    "    \"Random Forest\": RandomForestClassifier(),\n",
    "    \"NN\": MLPClassifier((128, 64, 32), max_iter=500)\n",
    "}\n",
    "\n",
    "for model_name, clf in models.items():\n",
    "    rsts = {}\n",
    "    print(\"*\" * 50)\n",
    "    print(f'Model: {model_name}')\n",
    "    \n",
    "    for col_name, y in Y.iteritems():\n",
    "        if not col_name.endswith(\"goal\"):\n",
    "            continue\n",
    "        y = np.array(y)\n",
    "        \n",
    "        metrics = ('accuracy', 'f1_micro', 'roc_auc_ovr')\n",
    "        scores = cross_validate(clf, X, y, cv=10, scoring=metrics)\n",
    "        # print(scores)\n",
    "\n",
    "        rsts[col_name] = {\n",
    "            met: scores[\"test_\" + met].mean() for met in metrics\n",
    "        }\n",
    "    # # print(\"- * \" * 20)\n",
    "\n",
    "    rsts = pd.DataFrame(rsts) * 100\n",
    "    rsts = rsts.T\n",
    "    display(rsts)\n",
    "    # rsts.to_csv(f\"rsts-model={model_name}.csv\", float_format=\"%.4f\")"
   ]
  },
  {
   "cell_type": "raw",
   "metadata": {},
   "source": [
    "Table 2. The performance for 3-category machine learning models.\n",
    "\n",
    "Models\tIntrinsic\n",
    "\tACC\t    F1\t    AUC\n",
    "LR\t46.9\t46.9\t55.1\n",
    "KNN\t46.9\t46.9\t51.5\n",
    "SVM\t47.2\t47.2\t54.2\n",
    "RF\t46.9\t46.5\t56.4\n",
    "NN\t40.6\t41.4\t50.7\n",
    "\n",
    "Models\tExtrinsic\n",
    "\tACC\t    F1\t    AUC\n",
    "LR\t48.5\t48.5\t54.5\n",
    "KNN 43.9\t43.9\t53.6\n",
    "SVM\t47.4\t47.4\t52.7\n",
    "RF\t46.5\t47.4\t55.9\n",
    "NN\t43.6\t43.2\t54.2"
   ]
  }
 ],
 "metadata": {
  "kernelspec": {
   "display_name": "Python 3.9.12 ('base')",
   "language": "python",
   "name": "python3"
  },
  "language_info": {
   "codemirror_mode": {
    "name": "ipython",
    "version": 3
   },
   "file_extension": ".py",
   "mimetype": "text/x-python",
   "name": "python",
   "nbconvert_exporter": "python",
   "pygments_lexer": "ipython3",
   "version": "3.9.12"
  },
  "vscode": {
   "interpreter": {
    "hash": "ab8c153ce49f82bb1ed29f2c31039786033a9fbd0ab1fbce815ac3f49b9f9c7e"
   }
  },
  "widgets": {
   "application/vnd.jupyter.widget-state+json": {
    "state": {},
    "version_major": 2,
    "version_minor": 0
   }
  }
 },
 "nbformat": 4,
 "nbformat_minor": 4
}
